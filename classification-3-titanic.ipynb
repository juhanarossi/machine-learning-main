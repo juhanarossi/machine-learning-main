{
 "cells": [
  {
   "cell_type": "code",
   "execution_count": 70,
   "metadata": {},
   "outputs": [
    {
     "name": "stdout",
     "output_type": "stream",
     "text": [
      "Requirement already satisfied: statsmodels in /Users/mehtad/.pyenv/versions/3.11.2/lib/python3.11/site-packages (0.13.5)\n",
      "Requirement already satisfied: pandas>=0.25 in /Users/mehtad/.pyenv/versions/3.11.2/lib/python3.11/site-packages (from statsmodels) (2.0.0)\n",
      "Requirement already satisfied: patsy>=0.5.2 in /Users/mehtad/.pyenv/versions/3.11.2/lib/python3.11/site-packages (from statsmodels) (0.5.3)\n",
      "Requirement already satisfied: packaging>=21.3 in /Users/mehtad/.pyenv/versions/3.11.2/lib/python3.11/site-packages (from statsmodels) (23.0)\n",
      "Requirement already satisfied: scipy>=1.3 in /Users/mehtad/.pyenv/versions/3.11.2/lib/python3.11/site-packages (from statsmodels) (1.9.3)\n",
      "Requirement already satisfied: numpy>=1.17 in /Users/mehtad/.pyenv/versions/3.11.2/lib/python3.11/site-packages (from statsmodels) (1.23.5)\n",
      "Requirement already satisfied: python-dateutil>=2.8.2 in /Users/mehtad/.pyenv/versions/3.11.2/lib/python3.11/site-packages (from pandas>=0.25->statsmodels) (2.8.2)\n",
      "Requirement already satisfied: pytz>=2020.1 in /Users/mehtad/.pyenv/versions/3.11.2/lib/python3.11/site-packages (from pandas>=0.25->statsmodels) (2023.3)\n",
      "Requirement already satisfied: tzdata>=2022.1 in /Users/mehtad/.pyenv/versions/3.11.2/lib/python3.11/site-packages (from pandas>=0.25->statsmodels) (2022.7)\n",
      "Requirement already satisfied: six in /Users/mehtad/.pyenv/versions/3.11.2/lib/python3.11/site-packages (from patsy>=0.5.2->statsmodels) (1.16.0)\n",
      "\n",
      "\u001b[1m[\u001b[0m\u001b[34;49mnotice\u001b[0m\u001b[1;39;49m]\u001b[0m\u001b[39;49m A new release of pip is available: \u001b[0m\u001b[31;49m23.1\u001b[0m\u001b[39;49m -> \u001b[0m\u001b[32;49m23.1.2\u001b[0m\n",
      "\u001b[1m[\u001b[0m\u001b[34;49mnotice\u001b[0m\u001b[1;39;49m]\u001b[0m\u001b[39;49m To update, run: \u001b[0m\u001b[32;49mpip install --upgrade pip\u001b[0m\n"
     ]
    }
   ],
   "source": [
    "# !pip install statsmodels"
   ]
  },
  {
   "attachments": {},
   "cell_type": "markdown",
   "metadata": {},
   "source": [
    "## Machine Learning - Titanic (Classification)\n",
    "\n",
    "The titanic dataset is a popular dummy dataset. \n",
    "\n",
    "In notebook, we will explore the basic concepts of Machine Learning using the Python library [SciKit Learn](https://scikit-learn.org/stable/index.html) and the Titanic dataset. You will find many tutorials online that use this dataset and library to explore Machine Learning concepts."
   ]
  },
  {
   "attachments": {},
   "cell_type": "markdown",
   "metadata": {},
   "source": [
    "![](flashcards/Classification_web.png)"
   ]
  },
  {
   "attachments": {},
   "cell_type": "markdown",
   "metadata": {},
   "source": [
    "Soma's **investigate.ai** is also a great resource for learning about classification problems in the context of journalism.\n",
    "\n",
    "- https://investigate.ai/classification/intro-to-classification/\n",
    "\n",
    "Here we'll use the Titanic Dataset and some [flashcards from ChrisAlbon](https://machinelearningflashcards.com/) to learn about this class of supervised learning problem."
   ]
  },
  {
   "cell_type": "code",
   "execution_count": 1,
   "metadata": {},
   "outputs": [],
   "source": [
    "import pandas as pd\n",
    "import numpy as np \n",
    "from plotnine import *\n",
    "import statsmodels.api as sm\n",
    "\n",
    "import warnings\n",
    "warnings.filterwarnings('ignore')\n"
   ]
  },
  {
   "attachments": {},
   "cell_type": "markdown",
   "metadata": {},
   "source": [
    "### Load the data\n",
    "\n",
    "Read in the `titanic.csv` data set again."
   ]
  },
  {
   "cell_type": "code",
   "execution_count": 2,
   "metadata": {},
   "outputs": [
    {
     "data": {
      "text/html": [
       "<div>\n",
       "<style scoped>\n",
       "    .dataframe tbody tr th:only-of-type {\n",
       "        vertical-align: middle;\n",
       "    }\n",
       "\n",
       "    .dataframe tbody tr th {\n",
       "        vertical-align: top;\n",
       "    }\n",
       "\n",
       "    .dataframe thead th {\n",
       "        text-align: right;\n",
       "    }\n",
       "</style>\n",
       "<table border=\"1\" class=\"dataframe\">\n",
       "  <thead>\n",
       "    <tr style=\"text-align: right;\">\n",
       "      <th></th>\n",
       "      <th>pclass</th>\n",
       "      <th>survived</th>\n",
       "      <th>name</th>\n",
       "      <th>age</th>\n",
       "      <th>embarked</th>\n",
       "      <th>home.dest</th>\n",
       "      <th>room</th>\n",
       "      <th>ticket</th>\n",
       "      <th>boat</th>\n",
       "      <th>gender</th>\n",
       "    </tr>\n",
       "  </thead>\n",
       "  <tbody>\n",
       "    <tr>\n",
       "      <th>0</th>\n",
       "      <td>1st</td>\n",
       "      <td>1</td>\n",
       "      <td>Allen, Miss Elisabeth Walton</td>\n",
       "      <td>29.0000</td>\n",
       "      <td>Southampton</td>\n",
       "      <td>St Louis, MO</td>\n",
       "      <td>B-5</td>\n",
       "      <td>24160 L221</td>\n",
       "      <td>2</td>\n",
       "      <td>female</td>\n",
       "    </tr>\n",
       "    <tr>\n",
       "      <th>1</th>\n",
       "      <td>1st</td>\n",
       "      <td>0</td>\n",
       "      <td>Allison, Miss Helen Loraine</td>\n",
       "      <td>2.0000</td>\n",
       "      <td>Southampton</td>\n",
       "      <td>Montreal, PQ / Chesterville, ON</td>\n",
       "      <td>C26</td>\n",
       "      <td>NaN</td>\n",
       "      <td>NaN</td>\n",
       "      <td>female</td>\n",
       "    </tr>\n",
       "    <tr>\n",
       "      <th>2</th>\n",
       "      <td>1st</td>\n",
       "      <td>0</td>\n",
       "      <td>Allison, Mr Hudson Joshua Creighton</td>\n",
       "      <td>30.0000</td>\n",
       "      <td>Southampton</td>\n",
       "      <td>Montreal, PQ / Chesterville, ON</td>\n",
       "      <td>C26</td>\n",
       "      <td>NaN</td>\n",
       "      <td>-135</td>\n",
       "      <td>male</td>\n",
       "    </tr>\n",
       "    <tr>\n",
       "      <th>3</th>\n",
       "      <td>1st</td>\n",
       "      <td>0</td>\n",
       "      <td>Allison, Mrs Hudson J.C. (Bessie Waldo Daniels)</td>\n",
       "      <td>25.0000</td>\n",
       "      <td>Southampton</td>\n",
       "      <td>Montreal, PQ / Chesterville, ON</td>\n",
       "      <td>C26</td>\n",
       "      <td>NaN</td>\n",
       "      <td>NaN</td>\n",
       "      <td>female</td>\n",
       "    </tr>\n",
       "    <tr>\n",
       "      <th>4</th>\n",
       "      <td>1st</td>\n",
       "      <td>1</td>\n",
       "      <td>Allison, Master Hudson Trevor</td>\n",
       "      <td>0.9167</td>\n",
       "      <td>Southampton</td>\n",
       "      <td>Montreal, PQ / Chesterville, ON</td>\n",
       "      <td>C22</td>\n",
       "      <td>NaN</td>\n",
       "      <td>11</td>\n",
       "      <td>male</td>\n",
       "    </tr>\n",
       "    <tr>\n",
       "      <th>...</th>\n",
       "      <td>...</td>\n",
       "      <td>...</td>\n",
       "      <td>...</td>\n",
       "      <td>...</td>\n",
       "      <td>...</td>\n",
       "      <td>...</td>\n",
       "      <td>...</td>\n",
       "      <td>...</td>\n",
       "      <td>...</td>\n",
       "      <td>...</td>\n",
       "    </tr>\n",
       "    <tr>\n",
       "      <th>1308</th>\n",
       "      <td>3rd</td>\n",
       "      <td>0</td>\n",
       "      <td>Zakarian, Mr Artun</td>\n",
       "      <td>NaN</td>\n",
       "      <td>NaN</td>\n",
       "      <td>NaN</td>\n",
       "      <td>NaN</td>\n",
       "      <td>NaN</td>\n",
       "      <td>NaN</td>\n",
       "      <td>male</td>\n",
       "    </tr>\n",
       "    <tr>\n",
       "      <th>1309</th>\n",
       "      <td>3rd</td>\n",
       "      <td>0</td>\n",
       "      <td>Zakarian, Mr Maprieder</td>\n",
       "      <td>NaN</td>\n",
       "      <td>NaN</td>\n",
       "      <td>NaN</td>\n",
       "      <td>NaN</td>\n",
       "      <td>NaN</td>\n",
       "      <td>NaN</td>\n",
       "      <td>male</td>\n",
       "    </tr>\n",
       "    <tr>\n",
       "      <th>1310</th>\n",
       "      <td>3rd</td>\n",
       "      <td>0</td>\n",
       "      <td>Zenn, Mr Philip</td>\n",
       "      <td>NaN</td>\n",
       "      <td>NaN</td>\n",
       "      <td>NaN</td>\n",
       "      <td>NaN</td>\n",
       "      <td>NaN</td>\n",
       "      <td>NaN</td>\n",
       "      <td>male</td>\n",
       "    </tr>\n",
       "    <tr>\n",
       "      <th>1311</th>\n",
       "      <td>3rd</td>\n",
       "      <td>0</td>\n",
       "      <td>Zievens, Rene</td>\n",
       "      <td>NaN</td>\n",
       "      <td>NaN</td>\n",
       "      <td>NaN</td>\n",
       "      <td>NaN</td>\n",
       "      <td>NaN</td>\n",
       "      <td>NaN</td>\n",
       "      <td>female</td>\n",
       "    </tr>\n",
       "    <tr>\n",
       "      <th>1312</th>\n",
       "      <td>3rd</td>\n",
       "      <td>0</td>\n",
       "      <td>Zimmerman, Leo</td>\n",
       "      <td>NaN</td>\n",
       "      <td>NaN</td>\n",
       "      <td>NaN</td>\n",
       "      <td>NaN</td>\n",
       "      <td>NaN</td>\n",
       "      <td>NaN</td>\n",
       "      <td>male</td>\n",
       "    </tr>\n",
       "  </tbody>\n",
       "</table>\n",
       "<p>1313 rows × 10 columns</p>\n",
       "</div>"
      ],
      "text/plain": [
       "     pclass  survived                                             name  \\\n",
       "0       1st         1                     Allen, Miss Elisabeth Walton   \n",
       "1       1st         0                      Allison, Miss Helen Loraine   \n",
       "2       1st         0              Allison, Mr Hudson Joshua Creighton   \n",
       "3       1st         0  Allison, Mrs Hudson J.C. (Bessie Waldo Daniels)   \n",
       "4       1st         1                    Allison, Master Hudson Trevor   \n",
       "...     ...       ...                                              ...   \n",
       "1308    3rd         0                               Zakarian, Mr Artun   \n",
       "1309    3rd         0                           Zakarian, Mr Maprieder   \n",
       "1310    3rd         0                                  Zenn, Mr Philip   \n",
       "1311    3rd         0                                    Zievens, Rene   \n",
       "1312    3rd         0                                   Zimmerman, Leo   \n",
       "\n",
       "          age     embarked                        home.dest room      ticket  \\\n",
       "0     29.0000  Southampton                     St Louis, MO  B-5  24160 L221   \n",
       "1      2.0000  Southampton  Montreal, PQ / Chesterville, ON  C26         NaN   \n",
       "2     30.0000  Southampton  Montreal, PQ / Chesterville, ON  C26         NaN   \n",
       "3     25.0000  Southampton  Montreal, PQ / Chesterville, ON  C26         NaN   \n",
       "4      0.9167  Southampton  Montreal, PQ / Chesterville, ON  C22         NaN   \n",
       "...       ...          ...                              ...  ...         ...   \n",
       "1308      NaN          NaN                              NaN  NaN         NaN   \n",
       "1309      NaN          NaN                              NaN  NaN         NaN   \n",
       "1310      NaN          NaN                              NaN  NaN         NaN   \n",
       "1311      NaN          NaN                              NaN  NaN         NaN   \n",
       "1312      NaN          NaN                              NaN  NaN         NaN   \n",
       "\n",
       "      boat  gender  \n",
       "0        2  female  \n",
       "1      NaN  female  \n",
       "2     -135    male  \n",
       "3      NaN  female  \n",
       "4       11    male  \n",
       "...    ...     ...  \n",
       "1308   NaN    male  \n",
       "1309   NaN    male  \n",
       "1310   NaN    male  \n",
       "1311   NaN  female  \n",
       "1312   NaN    male  \n",
       "\n",
       "[1313 rows x 10 columns]"
      ]
     },
     "execution_count": 2,
     "metadata": {},
     "output_type": "execute_result"
    }
   ],
   "source": [
    "# Load titanic.csv\n",
    "df = pd.read_csv('titanic.csv')\n",
    "df"
   ]
  },
  {
   "attachments": {},
   "cell_type": "markdown",
   "metadata": {},
   "source": [
    "The first thing we need to do is code the pclass and gender variables numerically. Let's use the following scheme:\n",
    "- pclass: 1,2,3\n",
    "- gender: 0=male, 1=female, and let's call the column called \"female\" to remind us which is which"
   ]
  },
  {
   "cell_type": "code",
   "execution_count": 3,
   "metadata": {},
   "outputs": [
    {
     "data": {
      "text/html": [
       "<div>\n",
       "<style scoped>\n",
       "    .dataframe tbody tr th:only-of-type {\n",
       "        vertical-align: middle;\n",
       "    }\n",
       "\n",
       "    .dataframe tbody tr th {\n",
       "        vertical-align: top;\n",
       "    }\n",
       "\n",
       "    .dataframe thead th {\n",
       "        text-align: right;\n",
       "    }\n",
       "</style>\n",
       "<table border=\"1\" class=\"dataframe\">\n",
       "  <thead>\n",
       "    <tr style=\"text-align: right;\">\n",
       "      <th></th>\n",
       "      <th>pclass</th>\n",
       "      <th>survived</th>\n",
       "      <th>name</th>\n",
       "      <th>age</th>\n",
       "      <th>embarked</th>\n",
       "      <th>home.dest</th>\n",
       "      <th>room</th>\n",
       "      <th>ticket</th>\n",
       "      <th>boat</th>\n",
       "      <th>gender</th>\n",
       "      <th>female</th>\n",
       "    </tr>\n",
       "  </thead>\n",
       "  <tbody>\n",
       "    <tr>\n",
       "      <th>0</th>\n",
       "      <td>1</td>\n",
       "      <td>1</td>\n",
       "      <td>Allen, Miss Elisabeth Walton</td>\n",
       "      <td>29.0</td>\n",
       "      <td>Southampton</td>\n",
       "      <td>St Louis, MO</td>\n",
       "      <td>B-5</td>\n",
       "      <td>24160 L221</td>\n",
       "      <td>2</td>\n",
       "      <td>female</td>\n",
       "      <td>1</td>\n",
       "    </tr>\n",
       "    <tr>\n",
       "      <th>1</th>\n",
       "      <td>1</td>\n",
       "      <td>0</td>\n",
       "      <td>Allison, Miss Helen Loraine</td>\n",
       "      <td>2.0</td>\n",
       "      <td>Southampton</td>\n",
       "      <td>Montreal, PQ / Chesterville, ON</td>\n",
       "      <td>C26</td>\n",
       "      <td>NaN</td>\n",
       "      <td>NaN</td>\n",
       "      <td>female</td>\n",
       "      <td>1</td>\n",
       "    </tr>\n",
       "    <tr>\n",
       "      <th>2</th>\n",
       "      <td>1</td>\n",
       "      <td>0</td>\n",
       "      <td>Allison, Mr Hudson Joshua Creighton</td>\n",
       "      <td>30.0</td>\n",
       "      <td>Southampton</td>\n",
       "      <td>Montreal, PQ / Chesterville, ON</td>\n",
       "      <td>C26</td>\n",
       "      <td>NaN</td>\n",
       "      <td>-135</td>\n",
       "      <td>male</td>\n",
       "      <td>0</td>\n",
       "    </tr>\n",
       "  </tbody>\n",
       "</table>\n",
       "</div>"
      ],
      "text/plain": [
       "   pclass  survived                                 name   age     embarked  \\\n",
       "0       1         1         Allen, Miss Elisabeth Walton  29.0  Southampton   \n",
       "1       1         0          Allison, Miss Helen Loraine   2.0  Southampton   \n",
       "2       1         0  Allison, Mr Hudson Joshua Creighton  30.0  Southampton   \n",
       "\n",
       "                         home.dest room      ticket  boat  gender  female  \n",
       "0                     St Louis, MO  B-5  24160 L221     2  female       1  \n",
       "1  Montreal, PQ / Chesterville, ON  C26         NaN   NaN  female       1  \n",
       "2  Montreal, PQ / Chesterville, ON  C26         NaN  -135    male       0  "
      ]
     },
     "execution_count": 3,
     "metadata": {},
     "output_type": "execute_result"
    }
   ],
   "source": [
    "# recode the pclass and gender variables so they are numeric\n",
    "df['pclass'] = df.pclass.replace({'1st': 1, '2nd': 2, '3rd': 3})\n",
    "df['female'] = df.gender.replace({'male': 0, 'female': 1})\n",
    "df.head(3)"
   ]
  },
  {
   "attachments": {},
   "cell_type": "markdown",
   "metadata": {},
   "source": [
    "## 1. Logistic Regression with Scikit-Learn\n",
    "\n",
    "Let's look at the documentation and use various functions from there!\n",
    "- https://scikit-learn.org/stable/modules/generated/sklearn.linear_model.LogisticRegression.html\n",
    "\n",
    "Also helpful if the sklearn documentation seems overwhelming, check out investigate.ai\n",
    "- https://investigate.ai/classification/intro-to-classification/#Logistic-Classifier\n"
   ]
  },
  {
   "cell_type": "code",
   "execution_count": 4,
   "metadata": {},
   "outputs": [],
   "source": [
    "# Import the classifier from scikit-learn\n",
    "from sklearn.linear_model import LogisticRegression\n",
    "\n",
    "# Create a new classifier (in this case it is just a logisitic regression)\n",
    "clf = LogisticRegression(C=1e9, solver='lbfgs', max_iter=4000)"
   ]
  },
  {
   "cell_type": "code",
   "execution_count": 5,
   "metadata": {},
   "outputs": [
    {
     "data": {
      "text/html": [
       "<style>#sk-container-id-1 {color: black;background-color: white;}#sk-container-id-1 pre{padding: 0;}#sk-container-id-1 div.sk-toggleable {background-color: white;}#sk-container-id-1 label.sk-toggleable__label {cursor: pointer;display: block;width: 100%;margin-bottom: 0;padding: 0.3em;box-sizing: border-box;text-align: center;}#sk-container-id-1 label.sk-toggleable__label-arrow:before {content: \"▸\";float: left;margin-right: 0.25em;color: #696969;}#sk-container-id-1 label.sk-toggleable__label-arrow:hover:before {color: black;}#sk-container-id-1 div.sk-estimator:hover label.sk-toggleable__label-arrow:before {color: black;}#sk-container-id-1 div.sk-toggleable__content {max-height: 0;max-width: 0;overflow: hidden;text-align: left;background-color: #f0f8ff;}#sk-container-id-1 div.sk-toggleable__content pre {margin: 0.2em;color: black;border-radius: 0.25em;background-color: #f0f8ff;}#sk-container-id-1 input.sk-toggleable__control:checked~div.sk-toggleable__content {max-height: 200px;max-width: 100%;overflow: auto;}#sk-container-id-1 input.sk-toggleable__control:checked~label.sk-toggleable__label-arrow:before {content: \"▾\";}#sk-container-id-1 div.sk-estimator input.sk-toggleable__control:checked~label.sk-toggleable__label {background-color: #d4ebff;}#sk-container-id-1 div.sk-label input.sk-toggleable__control:checked~label.sk-toggleable__label {background-color: #d4ebff;}#sk-container-id-1 input.sk-hidden--visually {border: 0;clip: rect(1px 1px 1px 1px);clip: rect(1px, 1px, 1px, 1px);height: 1px;margin: -1px;overflow: hidden;padding: 0;position: absolute;width: 1px;}#sk-container-id-1 div.sk-estimator {font-family: monospace;background-color: #f0f8ff;border: 1px dotted black;border-radius: 0.25em;box-sizing: border-box;margin-bottom: 0.5em;}#sk-container-id-1 div.sk-estimator:hover {background-color: #d4ebff;}#sk-container-id-1 div.sk-parallel-item::after {content: \"\";width: 100%;border-bottom: 1px solid gray;flex-grow: 1;}#sk-container-id-1 div.sk-label:hover label.sk-toggleable__label {background-color: #d4ebff;}#sk-container-id-1 div.sk-serial::before {content: \"\";position: absolute;border-left: 1px solid gray;box-sizing: border-box;top: 0;bottom: 0;left: 50%;z-index: 0;}#sk-container-id-1 div.sk-serial {display: flex;flex-direction: column;align-items: center;background-color: white;padding-right: 0.2em;padding-left: 0.2em;position: relative;}#sk-container-id-1 div.sk-item {position: relative;z-index: 1;}#sk-container-id-1 div.sk-parallel {display: flex;align-items: stretch;justify-content: center;background-color: white;position: relative;}#sk-container-id-1 div.sk-item::before, #sk-container-id-1 div.sk-parallel-item::before {content: \"\";position: absolute;border-left: 1px solid gray;box-sizing: border-box;top: 0;bottom: 0;left: 50%;z-index: -1;}#sk-container-id-1 div.sk-parallel-item {display: flex;flex-direction: column;z-index: 1;position: relative;background-color: white;}#sk-container-id-1 div.sk-parallel-item:first-child::after {align-self: flex-end;width: 50%;}#sk-container-id-1 div.sk-parallel-item:last-child::after {align-self: flex-start;width: 50%;}#sk-container-id-1 div.sk-parallel-item:only-child::after {width: 0;}#sk-container-id-1 div.sk-dashed-wrapped {border: 1px dashed gray;margin: 0 0.4em 0.5em 0.4em;box-sizing: border-box;padding-bottom: 0.4em;background-color: white;}#sk-container-id-1 div.sk-label label {font-family: monospace;font-weight: bold;display: inline-block;line-height: 1.2em;}#sk-container-id-1 div.sk-label-container {text-align: center;}#sk-container-id-1 div.sk-container {/* jupyter's `normalize.less` sets `[hidden] { display: none; }` but bootstrap.min.css set `[hidden] { display: none !important; }` so we also need the `!important` here to be able to override the default hidden behavior on the sphinx rendered scikit-learn.org. See: https://github.com/scikit-learn/scikit-learn/issues/21755 */display: inline-block !important;position: relative;}#sk-container-id-1 div.sk-text-repr-fallback {display: none;}</style><div id=\"sk-container-id-1\" class=\"sk-top-container\"><div class=\"sk-text-repr-fallback\"><pre>LogisticRegression(C=1000000000.0, max_iter=4000)</pre><b>In a Jupyter environment, please rerun this cell to show the HTML representation or trust the notebook. <br />On GitHub, the HTML representation is unable to render, please try loading this page with nbviewer.org.</b></div><div class=\"sk-container\" hidden><div class=\"sk-item\"><div class=\"sk-estimator sk-toggleable\"><input class=\"sk-toggleable__control sk-hidden--visually\" id=\"sk-estimator-id-1\" type=\"checkbox\" checked><label for=\"sk-estimator-id-1\" class=\"sk-toggleable__label sk-toggleable__label-arrow\">LogisticRegression</label><div class=\"sk-toggleable__content\"><pre>LogisticRegression(C=1000000000.0, max_iter=4000)</pre></div></div></div></div></div>"
      ],
      "text/plain": [
       "LogisticRegression(C=1000000000.0, max_iter=4000)"
      ]
     },
     "execution_count": 5,
     "metadata": {},
     "output_type": "execute_result"
    }
   ],
   "source": [
    "# randomly shuffle the dataframe (will explain this later)\n",
    "df = df.sample(len(df), random_state=1) \n",
    "df = df.query(\"age.notnull()\")\n",
    "\n",
    "# Fit the data to the model\n",
    "X = df[['pclass', 'female', 'age']]\n",
    "y = df['survived']\n",
    "\n",
    "clf.fit(X, y)"
   ]
  },
  {
   "cell_type": "code",
   "execution_count": 6,
   "metadata": {},
   "outputs": [
    {
     "data": {
      "text/plain": [
       "array([1, 1, 1, 1, 1, 0, 1, 0, 1, 0, 0, 1, 0, 0, 0, 1, 0, 0, 0, 0, 1, 1,\n",
       "       1, 0, 1, 1, 0, 1, 0, 0, 0, 1, 1, 1, 0, 0, 1, 0, 0, 1, 0, 0, 1, 1,\n",
       "       1, 0, 1, 0, 0, 0, 1, 0, 1, 0, 1, 1, 1, 0, 1, 0, 1, 0, 0, 1, 1, 1,\n",
       "       1, 0, 0, 0, 0, 0, 1, 1, 1, 1, 1, 0, 1, 0, 0, 1, 1, 0, 0, 1, 1, 0,\n",
       "       1, 1, 0, 1, 1, 1, 0, 0, 0, 0, 0, 1, 0, 0, 0, 1, 0, 1, 1, 0, 1, 0,\n",
       "       1, 0, 0, 1, 1, 0, 1, 1, 1, 0, 1, 0, 0, 1, 1, 1, 0, 0, 1, 1, 0, 1,\n",
       "       1, 0, 0, 0, 1, 0, 1, 1, 1, 1, 0, 1, 1, 1, 1, 0, 0, 0, 0, 0, 1, 0,\n",
       "       0, 0, 1, 0, 1, 0, 1, 0, 1, 0, 0, 0, 0, 1, 0, 0, 0, 0, 0, 1, 0, 0,\n",
       "       1, 0, 1, 1, 0, 0, 0, 0, 0, 0, 0, 1, 0, 0, 1, 0, 0, 0, 1, 0, 0, 0,\n",
       "       1, 0, 0, 0, 0, 0, 0, 1, 0, 0, 0, 0, 1, 0, 0, 1, 0, 1, 0, 1, 0, 0,\n",
       "       0, 0, 0, 0, 1, 0, 0, 1, 1, 1, 0, 0, 1, 1, 0, 1, 0, 0, 1, 0, 0, 1,\n",
       "       1, 0, 0, 0, 0, 1, 0, 0, 1, 0, 1, 0, 1, 1, 0, 0, 0, 0, 1, 0, 0, 0,\n",
       "       0, 1, 1, 0, 1, 1, 0, 1, 0, 0, 0, 0, 1, 0, 1, 1, 1, 1, 1, 0, 1, 1,\n",
       "       0, 1, 0, 0, 0, 1, 0, 1, 1, 0, 1, 1, 0, 0, 1, 0, 1, 0, 1, 0, 0, 0,\n",
       "       0, 1, 0, 1, 1, 1, 0, 0, 0, 0, 1, 0, 0, 0, 1, 0, 1, 1, 1, 1, 0, 0,\n",
       "       0, 0, 0, 1, 0, 0, 0, 0, 0, 0, 0, 1, 1, 0, 1, 1, 0, 0, 0, 1, 1, 0,\n",
       "       0, 0, 0, 1, 0, 1, 0, 0, 0, 1, 1, 0, 1, 0, 1, 0, 1, 0, 1, 1, 0, 0,\n",
       "       0, 0, 1, 1, 0, 1, 1, 0, 0, 1, 0, 0, 1, 0, 0, 0, 0, 0, 0, 0, 0, 0,\n",
       "       1, 0, 0, 1, 0, 0, 0, 0, 1, 0, 0, 1, 0, 0, 1, 0, 0, 1, 0, 1, 0, 1,\n",
       "       0, 1, 1, 1, 1, 1, 1, 0, 0, 0, 1, 0, 1, 0, 0, 1, 0, 0, 1, 0, 0, 1,\n",
       "       0, 1, 0, 0, 0, 0, 0, 1, 0, 1, 0, 1, 1, 1, 1, 0, 0, 1, 1, 0, 0, 0,\n",
       "       0, 1, 0, 0, 0, 0, 0, 0, 0, 1, 0, 1, 0, 1, 1, 1, 1, 1, 0, 0, 0, 1,\n",
       "       0, 0, 0, 0, 0, 0, 0, 0, 0, 1, 0, 1, 1, 0, 1, 0, 0, 0, 1, 1, 0, 0,\n",
       "       1, 0, 1, 0, 0, 1, 0, 0, 0, 0, 0, 1, 1, 0, 0, 1, 0, 0, 0, 1, 0, 0,\n",
       "       0, 1, 0, 0, 0, 1, 0, 0, 0, 0, 1, 0, 0, 1, 0, 0, 0, 0, 0, 1, 0, 0,\n",
       "       0, 1, 1, 1, 0, 0, 1, 0, 1, 1, 0, 0, 1, 0, 1, 1, 1, 0, 0, 0, 1, 0,\n",
       "       0, 1, 1, 0, 0, 0, 0, 0, 0, 1, 0, 1, 1, 1, 0, 0, 1, 0, 0, 1, 1, 1,\n",
       "       0, 0, 0, 0, 1, 0, 1, 1, 0, 1, 0, 0, 0, 1, 0, 0, 0, 1, 0, 0, 1, 1,\n",
       "       0, 0, 0, 1, 1, 0, 1, 0, 0, 0, 1, 1, 0, 0, 1, 0, 1], dtype=int64)"
      ]
     },
     "execution_count": 6,
     "metadata": {},
     "output_type": "execute_result"
    }
   ],
   "source": [
    "# predictions of who survived\n",
    "clf.predict(X)"
   ]
  },
  {
   "cell_type": "code",
   "execution_count": 45,
   "metadata": {},
   "outputs": [
    {
     "data": {
      "text/plain": [
       "array([[0.37360062, 0.62639938],\n",
       "       [0.03206144, 0.96793856],\n",
       "       [0.09667705, 0.90332295],\n",
       "       ...,\n",
       "       [0.05884271, 0.94115729],\n",
       "       [0.9223416 , 0.0776584 ],\n",
       "       [0.4443322 , 0.5556678 ]])"
      ]
     },
     "execution_count": 45,
     "metadata": {},
     "output_type": "execute_result"
    }
   ],
   "source": [
    "# predictions as probabilities\n",
    "clf.predict_proba(X)"
   ]
  },
  {
   "cell_type": "code",
   "execution_count": 7,
   "metadata": {},
   "outputs": [
    {
     "data": {
      "text/plain": [
       "array([0, 1], dtype=int64)"
      ]
     },
     "execution_count": 7,
     "metadata": {},
     "output_type": "execute_result"
    }
   ],
   "source": [
    "# probabilities of what? (survival)\n",
    "# this helps interpret the results above\n",
    "clf.classes_"
   ]
  },
  {
   "cell_type": "code",
   "execution_count": 8,
   "metadata": {},
   "outputs": [
    {
     "data": {
      "text/plain": [
       "array([[-1.42239773,  3.08618234, -0.04886711]])"
      ]
     },
     "execution_count": 8,
     "metadata": {},
     "output_type": "execute_result"
    }
   ],
   "source": [
    "# coefficients (logs of odds ratios)\n",
    "clf.coef_"
   ]
  },
  {
   "cell_type": "code",
   "execution_count": 48,
   "metadata": {},
   "outputs": [
    {
     "data": {
      "text/plain": [
       "array([[ 0.24113515, 21.89333692,  0.95230768]])"
      ]
     },
     "execution_count": 48,
     "metadata": {},
     "output_type": "execute_result"
    }
   ],
   "source": [
    "# exponentiate the coefficients to get the odds ratios\n",
    "np.exp(clf.coef_)"
   ]
  },
  {
   "cell_type": "code",
   "execution_count": 9,
   "metadata": {},
   "outputs": [
    {
     "data": {
      "text/plain": [
       "array(['pclass', 'female', 'age'], dtype=object)"
      ]
     },
     "execution_count": 9,
     "metadata": {},
     "output_type": "execute_result"
    }
   ],
   "source": [
    "# coefficients of what?\n",
    "# ...coefficients of features\n",
    "clf.feature_names_in_"
   ]
  },
  {
   "cell_type": "code",
   "execution_count": 10,
   "metadata": {},
   "outputs": [
    {
     "data": {
      "text/plain": [
       "0.8120063191153238"
      ]
     },
     "execution_count": 10,
     "metadata": {},
     "output_type": "execute_result"
    }
   ],
   "source": [
    "# accruacy...\n",
    "# how is this calculated?\n",
    "clf.score(X,y)"
   ]
  },
  {
   "attachments": {},
   "cell_type": "markdown",
   "metadata": {},
   "source": [
    "![](flashcards/Accuracy_web.png)"
   ]
  },
  {
   "attachments": {},
   "cell_type": "markdown",
   "metadata": {},
   "source": [
    "### 2. Metrics for what makes a good model"
   ]
  },
  {
   "cell_type": "code",
   "execution_count": 12,
   "metadata": {},
   "outputs": [],
   "source": [
    "from sklearn.metrics import confusion_matrix, recall_score, precision_score, \\\n",
    "                            accuracy_score, f1_score"
   ]
  },
  {
   "cell_type": "code",
   "execution_count": 13,
   "metadata": {},
   "outputs": [
    {
     "data": {
      "text/html": [
       "<div>\n",
       "<style scoped>\n",
       "    .dataframe tbody tr th:only-of-type {\n",
       "        vertical-align: middle;\n",
       "    }\n",
       "\n",
       "    .dataframe tbody tr th {\n",
       "        vertical-align: top;\n",
       "    }\n",
       "\n",
       "    .dataframe thead th {\n",
       "        text-align: right;\n",
       "    }\n",
       "</style>\n",
       "<table border=\"1\" class=\"dataframe\">\n",
       "  <thead>\n",
       "    <tr style=\"text-align: right;\">\n",
       "      <th></th>\n",
       "      <th>pred_survived</th>\n",
       "      <th>pred_died</th>\n",
       "      <th>Total</th>\n",
       "    </tr>\n",
       "  </thead>\n",
       "  <tbody>\n",
       "    <tr>\n",
       "      <th>survived</th>\n",
       "      <td>210</td>\n",
       "      <td>71</td>\n",
       "      <td>281</td>\n",
       "    </tr>\n",
       "    <tr>\n",
       "      <th>died</th>\n",
       "      <td>48</td>\n",
       "      <td>304</td>\n",
       "      <td>352</td>\n",
       "    </tr>\n",
       "    <tr>\n",
       "      <th>Total</th>\n",
       "      <td>258</td>\n",
       "      <td>375</td>\n",
       "      <td>633</td>\n",
       "    </tr>\n",
       "  </tbody>\n",
       "</table>\n",
       "</div>"
      ],
      "text/plain": [
       "          pred_survived  pred_died  Total\n",
       "survived            210         71    281\n",
       "died                 48        304    352\n",
       "Total               258        375    633"
      ]
     },
     "execution_count": 13,
     "metadata": {},
     "output_type": "execute_result"
    }
   ],
   "source": [
    "# calculate from below\n",
    "matrix = confusion_matrix(y, clf.predict(X))\n",
    "pd.DataFrame(matrix, \n",
    "             columns = ['pred_died', 'pred_survived'], \n",
    "             index=['died', 'survived'])\\\n",
    "    .assign(Total=lambda x: x.sum(axis=1))\\\n",
    "    .sort_values(by='Total')[['pred_survived', 'pred_died', 'Total']]\\\n",
    "    .T.assign(Total = lambda x: x.sum(axis=1)).T\n",
    "\n",
    "# from sklearn.metrics import ConfusionMatrixDisplay\n",
    "# ConfusionMatrixDisplay(matrix).plot(colorbar=False, cmap='binary')"
   ]
  },
  {
   "attachments": {},
   "cell_type": "markdown",
   "metadata": {},
   "source": [
    "![](flashcards/Confusion_Matrix_web.png)"
   ]
  },
  {
   "attachments": {},
   "cell_type": "markdown",
   "metadata": {},
   "source": [
    "![](flashcards/Error_Types_web.png)"
   ]
  },
  {
   "cell_type": "code",
   "execution_count": 53,
   "metadata": {},
   "outputs": [
    {
     "data": {
      "text/plain": [
       "0.8120063191153238"
      ]
     },
     "execution_count": 53,
     "metadata": {},
     "output_type": "execute_result"
    }
   ],
   "source": [
    "# (tp + fn) / (tp + fp + tn + fn)\n",
    "# (228 + 842) / (228 + 22 + 842 + 221)\n",
    "# (228 + 842) / 1313\n",
    "accuracy_score(clf.predict(X), y)"
   ]
  },
  {
   "attachments": {},
   "cell_type": "markdown",
   "metadata": {},
   "source": [
    "![](flashcards/Accuracy_web.png)"
   ]
  },
  {
   "cell_type": "code",
   "execution_count": 14,
   "metadata": {},
   "outputs": [
    {
     "data": {
      "text/plain": [
       "0.813953488372093"
      ]
     },
     "execution_count": 14,
     "metadata": {},
     "output_type": "execute_result"
    }
   ],
   "source": [
    "# (tp) / (tp + fp)\n",
    "# 228 / (228 + 22)\n",
    "# 228 / 250\n",
    "precision_score(y, clf.predict(X))"
   ]
  },
  {
   "attachments": {},
   "cell_type": "markdown",
   "metadata": {},
   "source": [
    "![](flashcards/Precision_web.png)"
   ]
  },
  {
   "cell_type": "code",
   "execution_count": 15,
   "metadata": {},
   "outputs": [
    {
     "data": {
      "text/plain": [
       "0.7473309608540926"
      ]
     },
     "execution_count": 15,
     "metadata": {},
     "output_type": "execute_result"
    }
   ],
   "source": [
    "# tp / (tp + fn)\n",
    "# 228 / (228 + 221)\n",
    "# 228 / 449\n",
    "recall_score(y, clf.predict(X))"
   ]
  },
  {
   "attachments": {},
   "cell_type": "markdown",
   "metadata": {},
   "source": [
    "![](flashcards/Recall_web.png)"
   ]
  },
  {
   "cell_type": "code",
   "execution_count": 16,
   "metadata": {},
   "outputs": [
    {
     "data": {
      "text/plain": [
       "0.7792207792207791"
      ]
     },
     "execution_count": 16,
     "metadata": {},
     "output_type": "execute_result"
    }
   ],
   "source": [
    "# 2 * (prescision * recall) / (precision + recall)\n",
    "f1_score(clf.predict(X), y)"
   ]
  },
  {
   "attachments": {},
   "cell_type": "markdown",
   "metadata": {},
   "source": [
    "![](flashcards/F1_Score_web.png)"
   ]
  },
  {
   "attachments": {},
   "cell_type": "markdown",
   "metadata": {},
   "source": [
    "![](F1_Score_web.png)"
   ]
  },
  {
   "cell_type": "code",
   "execution_count": 19,
   "metadata": {},
   "outputs": [
    {
     "name": "stdout",
     "output_type": "stream",
     "text": [
      "accuracy_score 0.78\n",
      "precision_score 0.86\n",
      "recall_score 0.71\n",
      "f1_score 0.77\n"
     ]
    }
   ],
   "source": [
    "import numpy as np\n",
    "from sklearn.model_selection import train_test_split\n",
    "\n",
    "X = df[['pclass', 'female', 'age']]\n",
    "y = df['survived']\n",
    "\n",
    "X_train, X_test, y_train, y_test = train_test_split(\n",
    "    X, y, test_size=0.2)\n",
    "\n",
    "# define model\n",
    "clf = LogisticRegression(C=1e9, solver='lbfgs', max_iter=4000) \n",
    "\n",
    "# fit model on training data\n",
    "clf.fit(X_train, y_train)\n",
    "\n",
    "# scores\n",
    "print(\"accuracy_score\", accuracy_score(y_test, clf.predict(X_test)).round(2))\n",
    "print(\"precision_score\", precision_score(y_test, clf.predict(X_test)).round(2))\n",
    "print(\"recall_score\", recall_score(y_test, clf.predict(X_test)).round(2))\n",
    "print(\"f1_score\", f1_score(y_test, clf.predict(X_test)).round(2))\n"
   ]
  },
  {
   "attachments": {},
   "cell_type": "markdown",
   "metadata": {},
   "source": [
    "### 4. Cross Validation"
   ]
  },
  {
   "cell_type": "code",
   "execution_count": 20,
   "metadata": {},
   "outputs": [],
   "source": [
    "from sklearn.model_selection import cross_val_score"
   ]
  },
  {
   "attachments": {},
   "cell_type": "markdown",
   "metadata": {},
   "source": [
    "![](flashcards/cross_validation.png)\n",
    "<img src=\"data:image/png;base64, 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\">"
   ]
  },
  {
   "attachments": {},
   "cell_type": "markdown",
   "metadata": {},
   "source": [
    "![](flashcards/K-Fold_Cross-Validation_web.png)"
   ]
  },
  {
   "cell_type": "code",
   "execution_count": 21,
   "metadata": {},
   "outputs": [
    {
     "data": {
      "text/plain": [
       "array([0.78740157, 0.88188976, 0.79527559, 0.81746032, 0.77777778])"
      ]
     },
     "execution_count": 21,
     "metadata": {},
     "output_type": "execute_result"
    }
   ],
   "source": [
    "scores = cross_val_score(clf, X, y, cv=5)\n",
    "\n",
    "# Cross validation on accuracy scores\n",
    "scores"
   ]
  },
  {
   "cell_type": "code",
   "execution_count": 22,
   "metadata": {},
   "outputs": [
    {
     "name": "stdout",
     "output_type": "stream",
     "text": [
      "0.81 accuracy with a standard deviation of 0.04\n"
     ]
    }
   ],
   "source": [
    "print(f\"{scores.mean().round(2)} accuracy with a standard deviation of {scores.std().round(2)}\")"
   ]
  },
  {
   "attachments": {},
   "cell_type": "markdown",
   "metadata": {},
   "source": [
    "#### Cross Validation with other scores"
   ]
  },
  {
   "cell_type": "code",
   "execution_count": 23,
   "metadata": {},
   "outputs": [],
   "source": [
    "from sklearn.model_selection import cross_validate"
   ]
  },
  {
   "cell_type": "code",
   "execution_count": 24,
   "metadata": {},
   "outputs": [
    {
     "data": {
      "text/html": [
       "<div>\n",
       "<style scoped>\n",
       "    .dataframe tbody tr th:only-of-type {\n",
       "        vertical-align: middle;\n",
       "    }\n",
       "\n",
       "    .dataframe tbody tr th {\n",
       "        vertical-align: top;\n",
       "    }\n",
       "\n",
       "    .dataframe thead th {\n",
       "        text-align: right;\n",
       "    }\n",
       "</style>\n",
       "<table border=\"1\" class=\"dataframe\">\n",
       "  <thead>\n",
       "    <tr style=\"text-align: right;\">\n",
       "      <th></th>\n",
       "      <th>fit_time</th>\n",
       "      <th>score_time</th>\n",
       "      <th>test_accuracy</th>\n",
       "      <th>test_precision</th>\n",
       "      <th>test_recall</th>\n",
       "      <th>test_f1</th>\n",
       "    </tr>\n",
       "  </thead>\n",
       "  <tbody>\n",
       "    <tr>\n",
       "      <th>0</th>\n",
       "      <td>0.01</td>\n",
       "      <td>0.01</td>\n",
       "      <td>0.79</td>\n",
       "      <td>0.74</td>\n",
       "      <td>0.80</td>\n",
       "      <td>0.77</td>\n",
       "    </tr>\n",
       "    <tr>\n",
       "      <th>1</th>\n",
       "      <td>0.02</td>\n",
       "      <td>0.01</td>\n",
       "      <td>0.88</td>\n",
       "      <td>0.92</td>\n",
       "      <td>0.80</td>\n",
       "      <td>0.86</td>\n",
       "    </tr>\n",
       "    <tr>\n",
       "      <th>2</th>\n",
       "      <td>0.02</td>\n",
       "      <td>0.01</td>\n",
       "      <td>0.80</td>\n",
       "      <td>0.86</td>\n",
       "      <td>0.65</td>\n",
       "      <td>0.74</td>\n",
       "    </tr>\n",
       "    <tr>\n",
       "      <th>3</th>\n",
       "      <td>0.02</td>\n",
       "      <td>0.05</td>\n",
       "      <td>0.82</td>\n",
       "      <td>0.82</td>\n",
       "      <td>0.75</td>\n",
       "      <td>0.79</td>\n",
       "    </tr>\n",
       "    <tr>\n",
       "      <th>4</th>\n",
       "      <td>0.01</td>\n",
       "      <td>0.01</td>\n",
       "      <td>0.78</td>\n",
       "      <td>0.75</td>\n",
       "      <td>0.75</td>\n",
       "      <td>0.75</td>\n",
       "    </tr>\n",
       "  </tbody>\n",
       "</table>\n",
       "</div>"
      ],
      "text/plain": [
       "   fit_time  score_time  test_accuracy  test_precision  test_recall  test_f1\n",
       "0      0.01        0.01           0.79            0.74         0.80     0.77\n",
       "1      0.02        0.01           0.88            0.92         0.80     0.86\n",
       "2      0.02        0.01           0.80            0.86         0.65     0.74\n",
       "3      0.02        0.05           0.82            0.82         0.75     0.79\n",
       "4      0.01        0.01           0.78            0.75         0.75     0.75"
      ]
     },
     "execution_count": 24,
     "metadata": {},
     "output_type": "execute_result"
    }
   ],
   "source": [
    "# 5-fold cross-validation\n",
    "scoring = ['accuracy', 'precision', 'recall', 'f1']\n",
    "scores = cross_validate(clf, X, y, scoring=scoring, cv=5)\n",
    "pd.DataFrame(scores).round(2)"
   ]
  },
  {
   "cell_type": "code",
   "execution_count": 25,
   "metadata": {},
   "outputs": [
    {
     "data": {
      "text/html": [
       "<div>\n",
       "<style scoped>\n",
       "    .dataframe tbody tr th:only-of-type {\n",
       "        vertical-align: middle;\n",
       "    }\n",
       "\n",
       "    .dataframe tbody tr th {\n",
       "        vertical-align: top;\n",
       "    }\n",
       "\n",
       "    .dataframe thead th {\n",
       "        text-align: right;\n",
       "    }\n",
       "</style>\n",
       "<table border=\"1\" class=\"dataframe\">\n",
       "  <thead>\n",
       "    <tr style=\"text-align: right;\">\n",
       "      <th></th>\n",
       "      <th>fit_time</th>\n",
       "      <th>score_time</th>\n",
       "      <th>test_accuracy</th>\n",
       "      <th>test_precision</th>\n",
       "      <th>test_recall</th>\n",
       "      <th>test_f1</th>\n",
       "    </tr>\n",
       "  </thead>\n",
       "  <tbody>\n",
       "    <tr>\n",
       "      <th>mean</th>\n",
       "      <td>0.02</td>\n",
       "      <td>0.02</td>\n",
       "      <td>0.81</td>\n",
       "      <td>0.82</td>\n",
       "      <td>0.75</td>\n",
       "      <td>0.78</td>\n",
       "    </tr>\n",
       "    <tr>\n",
       "      <th>std</th>\n",
       "      <td>0.00</td>\n",
       "      <td>0.02</td>\n",
       "      <td>0.04</td>\n",
       "      <td>0.08</td>\n",
       "      <td>0.06</td>\n",
       "      <td>0.05</td>\n",
       "    </tr>\n",
       "  </tbody>\n",
       "</table>\n",
       "</div>"
      ],
      "text/plain": [
       "      fit_time  score_time  test_accuracy  test_precision  test_recall  \\\n",
       "mean      0.02        0.02           0.81            0.82         0.75   \n",
       "std       0.00        0.02           0.04            0.08         0.06   \n",
       "\n",
       "      test_f1  \n",
       "mean     0.78  \n",
       "std      0.05  "
      ]
     },
     "execution_count": 25,
     "metadata": {},
     "output_type": "execute_result"
    }
   ],
   "source": [
    "# 5-fold cross-validation summary\n",
    "pd.DataFrame(scores).describe().round(2)[1:3]"
   ]
  },
  {
   "attachments": {},
   "cell_type": "markdown",
   "metadata": {},
   "source": [
    "## Comparing models (part I) \n",
    "\n",
    "Here i switch back to StatsModels for a quick second. \n",
    "\n",
    "Let's compare the various logistic regressions we ran using our new metric.\n",
    "- survived ~ pclass + female\n",
    "- survived ~ pclass + female + age\n",
    "- survived ~ C(pclass) + female + age\n",
    "- survived ~ C(pclass) + female + np.log(age)\n",
    "- survived ~ C(pclass) + female + age<18\n"
   ]
  },
  {
   "cell_type": "code",
   "execution_count": 27,
   "metadata": {},
   "outputs": [],
   "source": [
    "from patsy import dmatrices\n",
    "\n",
    "def get_logistic_regression_predictions(regression_str, df):\n",
    "    \"\"\"\n",
    "    use Sklearn (for cross validation) and StatsModels for patsy (y~X1+X2+X3) syntax\n",
    "    \"\"\"\n",
    "    y, X = dmatrices(regression_str, df, return_type = 'dataframe')\n",
    "    model = LogisticRegression(fit_intercept = False)\n",
    "    mdl = model.fit(X, y)\n",
    "    scores = cross_validate(clf, X, y, scoring=scoring, cv=5)\n",
    "    logit = sm.Logit(y, X)\n",
    "    print(regression_str)\n",
    "    print(\"prsquared=\", logit.fit(disp=0).prsquared.round(2))\n",
    "    return pd.DataFrame(scores).describe()[1:3].round(2)[['test_accuracy','test_precision','test_recall','test_f1']]\n",
    "\n"
   ]
  },
  {
   "cell_type": "code",
   "execution_count": 28,
   "metadata": {},
   "outputs": [
    {
     "name": "stdout",
     "output_type": "stream",
     "text": [
      "survived ~ female\n",
      "prsquared= 0.27\n"
     ]
    },
    {
     "data": {
      "text/html": [
       "<div>\n",
       "<style scoped>\n",
       "    .dataframe tbody tr th:only-of-type {\n",
       "        vertical-align: middle;\n",
       "    }\n",
       "\n",
       "    .dataframe tbody tr th {\n",
       "        vertical-align: top;\n",
       "    }\n",
       "\n",
       "    .dataframe thead th {\n",
       "        text-align: right;\n",
       "    }\n",
       "</style>\n",
       "<table border=\"1\" class=\"dataframe\">\n",
       "  <thead>\n",
       "    <tr style=\"text-align: right;\">\n",
       "      <th></th>\n",
       "      <th>test_accuracy</th>\n",
       "      <th>test_precision</th>\n",
       "      <th>test_recall</th>\n",
       "      <th>test_f1</th>\n",
       "    </tr>\n",
       "  </thead>\n",
       "  <tbody>\n",
       "    <tr>\n",
       "      <th>mean</th>\n",
       "      <td>0.80</td>\n",
       "      <td>0.82</td>\n",
       "      <td>0.71</td>\n",
       "      <td>0.76</td>\n",
       "    </tr>\n",
       "    <tr>\n",
       "      <th>std</th>\n",
       "      <td>0.04</td>\n",
       "      <td>0.05</td>\n",
       "      <td>0.08</td>\n",
       "      <td>0.05</td>\n",
       "    </tr>\n",
       "  </tbody>\n",
       "</table>\n",
       "</div>"
      ],
      "text/plain": [
       "      test_accuracy  test_precision  test_recall  test_f1\n",
       "mean           0.80            0.82         0.71     0.76\n",
       "std            0.04            0.05         0.08     0.05"
      ]
     },
     "execution_count": 28,
     "metadata": {},
     "output_type": "execute_result"
    }
   ],
   "source": [
    "get_logistic_regression_predictions(\"survived ~ female\", df)"
   ]
  },
  {
   "cell_type": "code",
   "execution_count": 29,
   "metadata": {},
   "outputs": [
    {
     "name": "stdout",
     "output_type": "stream",
     "text": [
      "survived ~ pclass\n",
      "prsquared= 0.07\n"
     ]
    },
    {
     "data": {
      "text/html": [
       "<div>\n",
       "<style scoped>\n",
       "    .dataframe tbody tr th:only-of-type {\n",
       "        vertical-align: middle;\n",
       "    }\n",
       "\n",
       "    .dataframe tbody tr th {\n",
       "        vertical-align: top;\n",
       "    }\n",
       "\n",
       "    .dataframe thead th {\n",
       "        text-align: right;\n",
       "    }\n",
       "</style>\n",
       "<table border=\"1\" class=\"dataframe\">\n",
       "  <thead>\n",
       "    <tr style=\"text-align: right;\">\n",
       "      <th></th>\n",
       "      <th>test_accuracy</th>\n",
       "      <th>test_precision</th>\n",
       "      <th>test_recall</th>\n",
       "      <th>test_f1</th>\n",
       "    </tr>\n",
       "  </thead>\n",
       "  <tbody>\n",
       "    <tr>\n",
       "      <th>mean</th>\n",
       "      <td>0.64</td>\n",
       "      <td>0.62</td>\n",
       "      <td>0.49</td>\n",
       "      <td>0.55</td>\n",
       "    </tr>\n",
       "    <tr>\n",
       "      <th>std</th>\n",
       "      <td>0.05</td>\n",
       "      <td>0.08</td>\n",
       "      <td>0.04</td>\n",
       "      <td>0.04</td>\n",
       "    </tr>\n",
       "  </tbody>\n",
       "</table>\n",
       "</div>"
      ],
      "text/plain": [
       "      test_accuracy  test_precision  test_recall  test_f1\n",
       "mean           0.64            0.62         0.49     0.55\n",
       "std            0.05            0.08         0.04     0.04"
      ]
     },
     "execution_count": 29,
     "metadata": {},
     "output_type": "execute_result"
    }
   ],
   "source": [
    "get_logistic_regression_predictions(\"survived ~ pclass\", df)"
   ]
  },
  {
   "cell_type": "code",
   "execution_count": 30,
   "metadata": {},
   "outputs": [
    {
     "name": "stdout",
     "output_type": "stream",
     "text": [
      "survived ~ female + pclass\n",
      "prsquared= 0.34\n"
     ]
    },
    {
     "data": {
      "text/html": [
       "<div>\n",
       "<style scoped>\n",
       "    .dataframe tbody tr th:only-of-type {\n",
       "        vertical-align: middle;\n",
       "    }\n",
       "\n",
       "    .dataframe tbody tr th {\n",
       "        vertical-align: top;\n",
       "    }\n",
       "\n",
       "    .dataframe thead th {\n",
       "        text-align: right;\n",
       "    }\n",
       "</style>\n",
       "<table border=\"1\" class=\"dataframe\">\n",
       "  <thead>\n",
       "    <tr style=\"text-align: right;\">\n",
       "      <th></th>\n",
       "      <th>test_accuracy</th>\n",
       "      <th>test_precision</th>\n",
       "      <th>test_recall</th>\n",
       "      <th>test_f1</th>\n",
       "    </tr>\n",
       "  </thead>\n",
       "  <tbody>\n",
       "    <tr>\n",
       "      <th>mean</th>\n",
       "      <td>0.80</td>\n",
       "      <td>0.82</td>\n",
       "      <td>0.71</td>\n",
       "      <td>0.76</td>\n",
       "    </tr>\n",
       "    <tr>\n",
       "      <th>std</th>\n",
       "      <td>0.04</td>\n",
       "      <td>0.05</td>\n",
       "      <td>0.08</td>\n",
       "      <td>0.05</td>\n",
       "    </tr>\n",
       "  </tbody>\n",
       "</table>\n",
       "</div>"
      ],
      "text/plain": [
       "      test_accuracy  test_precision  test_recall  test_f1\n",
       "mean           0.80            0.82         0.71     0.76\n",
       "std            0.04            0.05         0.08     0.05"
      ]
     },
     "execution_count": 30,
     "metadata": {},
     "output_type": "execute_result"
    }
   ],
   "source": [
    "get_logistic_regression_predictions(\"survived ~ female + pclass\", df)"
   ]
  },
  {
   "cell_type": "code",
   "execution_count": 31,
   "metadata": {},
   "outputs": [
    {
     "name": "stdout",
     "output_type": "stream",
     "text": [
      "survived ~ female + C(pclass) + np.log(age)\n",
      "prsquared= 0.39\n"
     ]
    },
    {
     "data": {
      "text/html": [
       "<div>\n",
       "<style scoped>\n",
       "    .dataframe tbody tr th:only-of-type {\n",
       "        vertical-align: middle;\n",
       "    }\n",
       "\n",
       "    .dataframe tbody tr th {\n",
       "        vertical-align: top;\n",
       "    }\n",
       "\n",
       "    .dataframe thead th {\n",
       "        text-align: right;\n",
       "    }\n",
       "</style>\n",
       "<table border=\"1\" class=\"dataframe\">\n",
       "  <thead>\n",
       "    <tr style=\"text-align: right;\">\n",
       "      <th></th>\n",
       "      <th>test_accuracy</th>\n",
       "      <th>test_precision</th>\n",
       "      <th>test_recall</th>\n",
       "      <th>test_f1</th>\n",
       "    </tr>\n",
       "  </thead>\n",
       "  <tbody>\n",
       "    <tr>\n",
       "      <th>mean</th>\n",
       "      <td>0.82</td>\n",
       "      <td>0.84</td>\n",
       "      <td>0.74</td>\n",
       "      <td>0.78</td>\n",
       "    </tr>\n",
       "    <tr>\n",
       "      <th>std</th>\n",
       "      <td>0.04</td>\n",
       "      <td>0.07</td>\n",
       "      <td>0.10</td>\n",
       "      <td>0.06</td>\n",
       "    </tr>\n",
       "  </tbody>\n",
       "</table>\n",
       "</div>"
      ],
      "text/plain": [
       "      test_accuracy  test_precision  test_recall  test_f1\n",
       "mean           0.82            0.84         0.74     0.78\n",
       "std            0.04            0.07         0.10     0.06"
      ]
     },
     "execution_count": 31,
     "metadata": {},
     "output_type": "execute_result"
    }
   ],
   "source": [
    "get_logistic_regression_predictions(\"survived ~ female + C(pclass) + np.log(age)\", df)"
   ]
  },
  {
   "cell_type": "code",
   "execution_count": 32,
   "metadata": {},
   "outputs": [
    {
     "name": "stdout",
     "output_type": "stream",
     "text": [
      "survived ~ C(pclass) + female + age<18\n",
      "prsquared= 0.37\n"
     ]
    },
    {
     "data": {
      "text/html": [
       "<div>\n",
       "<style scoped>\n",
       "    .dataframe tbody tr th:only-of-type {\n",
       "        vertical-align: middle;\n",
       "    }\n",
       "\n",
       "    .dataframe tbody tr th {\n",
       "        vertical-align: top;\n",
       "    }\n",
       "\n",
       "    .dataframe thead th {\n",
       "        text-align: right;\n",
       "    }\n",
       "</style>\n",
       "<table border=\"1\" class=\"dataframe\">\n",
       "  <thead>\n",
       "    <tr style=\"text-align: right;\">\n",
       "      <th></th>\n",
       "      <th>test_accuracy</th>\n",
       "      <th>test_precision</th>\n",
       "      <th>test_recall</th>\n",
       "      <th>test_f1</th>\n",
       "    </tr>\n",
       "  </thead>\n",
       "  <tbody>\n",
       "    <tr>\n",
       "      <th>mean</th>\n",
       "      <td>0.81</td>\n",
       "      <td>0.83</td>\n",
       "      <td>0.74</td>\n",
       "      <td>0.77</td>\n",
       "    </tr>\n",
       "    <tr>\n",
       "      <th>std</th>\n",
       "      <td>0.04</td>\n",
       "      <td>0.06</td>\n",
       "      <td>0.10</td>\n",
       "      <td>0.06</td>\n",
       "    </tr>\n",
       "  </tbody>\n",
       "</table>\n",
       "</div>"
      ],
      "text/plain": [
       "      test_accuracy  test_precision  test_recall  test_f1\n",
       "mean           0.81            0.83         0.74     0.77\n",
       "std            0.04            0.06         0.10     0.06"
      ]
     },
     "execution_count": 32,
     "metadata": {},
     "output_type": "execute_result"
    }
   ],
   "source": [
    "get_logistic_regression_predictions(\"survived ~ C(pclass) + female + age<18\", df)"
   ]
  },
  {
   "attachments": {},
   "cell_type": "markdown",
   "metadata": {},
   "source": [
    "## Comparing models (Part II)"
   ]
  },
  {
   "cell_type": "code",
   "execution_count": 33,
   "metadata": {},
   "outputs": [
    {
     "name": "stdout",
     "output_type": "stream",
     "text": [
      "Remember, this is X\n"
     ]
    },
    {
     "data": {
      "text/html": [
       "<div>\n",
       "<style scoped>\n",
       "    .dataframe tbody tr th:only-of-type {\n",
       "        vertical-align: middle;\n",
       "    }\n",
       "\n",
       "    .dataframe tbody tr th {\n",
       "        vertical-align: top;\n",
       "    }\n",
       "\n",
       "    .dataframe thead th {\n",
       "        text-align: right;\n",
       "    }\n",
       "</style>\n",
       "<table border=\"1\" class=\"dataframe\">\n",
       "  <thead>\n",
       "    <tr style=\"text-align: right;\">\n",
       "      <th></th>\n",
       "      <th>pclass</th>\n",
       "      <th>female</th>\n",
       "      <th>age</th>\n",
       "    </tr>\n",
       "  </thead>\n",
       "  <tbody>\n",
       "    <tr>\n",
       "      <th>201</th>\n",
       "      <td>1</td>\n",
       "      <td>0</td>\n",
       "      <td>18.0</td>\n",
       "    </tr>\n",
       "    <tr>\n",
       "      <th>115</th>\n",
       "      <td>1</td>\n",
       "      <td>1</td>\n",
       "      <td>22.0</td>\n",
       "    </tr>\n",
       "    <tr>\n",
       "      <th>255</th>\n",
       "      <td>1</td>\n",
       "      <td>1</td>\n",
       "      <td>46.0</td>\n",
       "    </tr>\n",
       "    <tr>\n",
       "      <th>195</th>\n",
       "      <td>1</td>\n",
       "      <td>0</td>\n",
       "      <td>28.0</td>\n",
       "    </tr>\n",
       "    <tr>\n",
       "      <th>288</th>\n",
       "      <td>1</td>\n",
       "      <td>1</td>\n",
       "      <td>36.0</td>\n",
       "    </tr>\n",
       "  </tbody>\n",
       "</table>\n",
       "</div>"
      ],
      "text/plain": [
       "     pclass  female   age\n",
       "201       1       0  18.0\n",
       "115       1       1  22.0\n",
       "255       1       1  46.0\n",
       "195       1       0  28.0\n",
       "288       1       1  36.0"
      ]
     },
     "metadata": {},
     "output_type": "display_data"
    },
    {
     "name": "stdout",
     "output_type": "stream",
     "text": [
      "And this is y\n"
     ]
    },
    {
     "data": {
      "text/plain": [
       "201    0\n",
       "115    1\n",
       "255    1\n",
       "195    0\n",
       "288    1\n",
       "      ..\n",
       "749    0\n",
       "129    1\n",
       "144    1\n",
       "715    0\n",
       "235    0\n",
       "Name: survived, Length: 633, dtype: int64"
      ]
     },
     "metadata": {},
     "output_type": "display_data"
    }
   ],
   "source": [
    "print(\"Remember, this is X\")\n",
    "display(X.head())\n",
    "print(\"And this is y\")\n",
    "display(y)"
   ]
  },
  {
   "attachments": {},
   "cell_type": "markdown",
   "metadata": {},
   "source": [
    "### Logistic Regression\n",
    "\n",
    "Remember, this is `survived ~ pclass + female + age` \n",
    "\n",
    "⚠️ don't forget - we have filtered out people whose age is unknown at this point, so this is only for people whose age is provided"
   ]
  },
  {
   "cell_type": "code",
   "execution_count": 34,
   "metadata": {},
   "outputs": [
    {
     "data": {
      "text/html": [
       "<div>\n",
       "<style scoped>\n",
       "    .dataframe tbody tr th:only-of-type {\n",
       "        vertical-align: middle;\n",
       "    }\n",
       "\n",
       "    .dataframe tbody tr th {\n",
       "        vertical-align: top;\n",
       "    }\n",
       "\n",
       "    .dataframe thead th {\n",
       "        text-align: right;\n",
       "    }\n",
       "</style>\n",
       "<table border=\"1\" class=\"dataframe\">\n",
       "  <thead>\n",
       "    <tr style=\"text-align: right;\">\n",
       "      <th></th>\n",
       "      <th>fit_time</th>\n",
       "      <th>score_time</th>\n",
       "      <th>test_accuracy</th>\n",
       "      <th>test_precision</th>\n",
       "      <th>test_recall</th>\n",
       "      <th>test_f1</th>\n",
       "    </tr>\n",
       "  </thead>\n",
       "  <tbody>\n",
       "    <tr>\n",
       "      <th>mean</th>\n",
       "      <td>0.02</td>\n",
       "      <td>0.01</td>\n",
       "      <td>0.81</td>\n",
       "      <td>0.82</td>\n",
       "      <td>0.75</td>\n",
       "      <td>0.78</td>\n",
       "    </tr>\n",
       "    <tr>\n",
       "      <th>std</th>\n",
       "      <td>0.02</td>\n",
       "      <td>0.01</td>\n",
       "      <td>0.04</td>\n",
       "      <td>0.08</td>\n",
       "      <td>0.06</td>\n",
       "      <td>0.05</td>\n",
       "    </tr>\n",
       "  </tbody>\n",
       "</table>\n",
       "</div>"
      ],
      "text/plain": [
       "      fit_time  score_time  test_accuracy  test_precision  test_recall  \\\n",
       "mean      0.02        0.01           0.81            0.82         0.75   \n",
       "std       0.02        0.01           0.04            0.08         0.06   \n",
       "\n",
       "      test_f1  \n",
       "mean     0.78  \n",
       "std      0.05  "
      ]
     },
     "execution_count": 34,
     "metadata": {},
     "output_type": "execute_result"
    }
   ],
   "source": [
    "# Logistic Regression\n",
    "from sklearn.linear_model import LogisticRegression\n",
    "\n",
    "# define the model\n",
    "clf = LogisticRegression(C=1e9, solver='lbfgs', max_iter=4000)\n",
    "clf.fit(X,y) # fit data to the model\n",
    "\n",
    "# calculate scores\n",
    "scores = cross_validate(clf, X, y, scoring=scoring, cv=5)\n",
    "\n",
    "# display scores\n",
    "pd.DataFrame(scores).describe().round(2)[1:3]"
   ]
  },
  {
   "attachments": {},
   "cell_type": "markdown",
   "metadata": {},
   "source": [
    "### Multinomial Naive Bayes\n",
    "\n",
    "https://scikit-learn.org/stable/modules/generated/sklearn.naive_bayes.MultinomialNB.html"
   ]
  },
  {
   "cell_type": "code",
   "execution_count": 35,
   "metadata": {},
   "outputs": [
    {
     "data": {
      "text/html": [
       "<div>\n",
       "<style scoped>\n",
       "    .dataframe tbody tr th:only-of-type {\n",
       "        vertical-align: middle;\n",
       "    }\n",
       "\n",
       "    .dataframe tbody tr th {\n",
       "        vertical-align: top;\n",
       "    }\n",
       "\n",
       "    .dataframe thead th {\n",
       "        text-align: right;\n",
       "    }\n",
       "</style>\n",
       "<table border=\"1\" class=\"dataframe\">\n",
       "  <thead>\n",
       "    <tr style=\"text-align: right;\">\n",
       "      <th></th>\n",
       "      <th>fit_time</th>\n",
       "      <th>score_time</th>\n",
       "      <th>test_accuracy</th>\n",
       "      <th>test_precision</th>\n",
       "      <th>test_recall</th>\n",
       "      <th>test_f1</th>\n",
       "    </tr>\n",
       "  </thead>\n",
       "  <tbody>\n",
       "    <tr>\n",
       "      <th>mean</th>\n",
       "      <td>0.0</td>\n",
       "      <td>0.01</td>\n",
       "      <td>0.80</td>\n",
       "      <td>0.82</td>\n",
       "      <td>0.71</td>\n",
       "      <td>0.76</td>\n",
       "    </tr>\n",
       "    <tr>\n",
       "      <th>std</th>\n",
       "      <td>0.0</td>\n",
       "      <td>0.01</td>\n",
       "      <td>0.04</td>\n",
       "      <td>0.05</td>\n",
       "      <td>0.08</td>\n",
       "      <td>0.05</td>\n",
       "    </tr>\n",
       "  </tbody>\n",
       "</table>\n",
       "</div>"
      ],
      "text/plain": [
       "      fit_time  score_time  test_accuracy  test_precision  test_recall  \\\n",
       "mean       0.0        0.01           0.80            0.82         0.71   \n",
       "std        0.0        0.01           0.04            0.05         0.08   \n",
       "\n",
       "      test_f1  \n",
       "mean     0.76  \n",
       "std      0.05  "
      ]
     },
     "execution_count": 35,
     "metadata": {},
     "output_type": "execute_result"
    }
   ],
   "source": [
    "# Multinomial Naive Bayes\n",
    "from sklearn.naive_bayes import MultinomialNB\n",
    "\n",
    "# define the model\n",
    "clf = MultinomialNB()\n",
    "clf.fit(X,y)  # fit data to the model\n",
    "\n",
    "# calculate scores\n",
    "scores = cross_validate(clf, X, y, scoring=scoring, cv=5)\n",
    "\n",
    "# display scores\n",
    "pd.DataFrame(scores).describe().round(2)[1:3]"
   ]
  },
  {
   "attachments": {},
   "cell_type": "markdown",
   "metadata": {},
   "source": [
    "### Neural Network\n",
    "\n",
    "Multi-layer perceptron (a type of Neural Network ¯\\\\_(ツ)_/¯)\n",
    "\n",
    "https://scikit-learn.org/stable/modules/generated/sklearn.neural_network.MLPClassifier.html"
   ]
  },
  {
   "cell_type": "code",
   "execution_count": 36,
   "metadata": {},
   "outputs": [
    {
     "data": {
      "text/html": [
       "<div>\n",
       "<style scoped>\n",
       "    .dataframe tbody tr th:only-of-type {\n",
       "        vertical-align: middle;\n",
       "    }\n",
       "\n",
       "    .dataframe tbody tr th {\n",
       "        vertical-align: top;\n",
       "    }\n",
       "\n",
       "    .dataframe thead th {\n",
       "        text-align: right;\n",
       "    }\n",
       "</style>\n",
       "<table border=\"1\" class=\"dataframe\">\n",
       "  <thead>\n",
       "    <tr style=\"text-align: right;\">\n",
       "      <th></th>\n",
       "      <th>fit_time</th>\n",
       "      <th>score_time</th>\n",
       "      <th>test_accuracy</th>\n",
       "      <th>test_precision</th>\n",
       "      <th>test_recall</th>\n",
       "      <th>test_f1</th>\n",
       "    </tr>\n",
       "  </thead>\n",
       "  <tbody>\n",
       "    <tr>\n",
       "      <th>mean</th>\n",
       "      <td>0.63</td>\n",
       "      <td>0.02</td>\n",
       "      <td>0.82</td>\n",
       "      <td>0.84</td>\n",
       "      <td>0.74</td>\n",
       "      <td>0.78</td>\n",
       "    </tr>\n",
       "    <tr>\n",
       "      <th>std</th>\n",
       "      <td>0.10</td>\n",
       "      <td>0.01</td>\n",
       "      <td>0.05</td>\n",
       "      <td>0.08</td>\n",
       "      <td>0.10</td>\n",
       "      <td>0.07</td>\n",
       "    </tr>\n",
       "  </tbody>\n",
       "</table>\n",
       "</div>"
      ],
      "text/plain": [
       "      fit_time  score_time  test_accuracy  test_precision  test_recall  \\\n",
       "mean      0.63        0.02           0.82            0.84         0.74   \n",
       "std       0.10        0.01           0.05            0.08         0.10   \n",
       "\n",
       "      test_f1  \n",
       "mean     0.78  \n",
       "std      0.07  "
      ]
     },
     "execution_count": 36,
     "metadata": {},
     "output_type": "execute_result"
    }
   ],
   "source": [
    "# Multi-layer perceptron (a type of Neural Network ¯\\_(ツ)_/¯)\n",
    "from sklearn.neural_network import MLPClassifier\n",
    "\n",
    "# define the model\n",
    "clf = MLPClassifier()\n",
    "clf.fit(X,y) # fit data to the model\n",
    "\n",
    "# calculate scores\n",
    "scores = cross_validate(clf, X, y, scoring=scoring, cv=5)\n",
    "\n",
    "# display scores\n",
    "pd.DataFrame(scores).describe().round(2)[1:3]"
   ]
  }
 ],
 "metadata": {
  "kernelspec": {
   "display_name": "Python 3 (ipykernel)",
   "language": "python",
   "name": "python3"
  },
  "language_info": {
   "codemirror_mode": {
    "name": "ipython",
    "version": 3
   },
   "file_extension": ".py",
   "mimetype": "text/x-python",
   "name": "python",
   "nbconvert_exporter": "python",
   "pygments_lexer": "ipython3",
   "version": "3.11.0rc2"
  }
 },
 "nbformat": 4,
 "nbformat_minor": 1
}
