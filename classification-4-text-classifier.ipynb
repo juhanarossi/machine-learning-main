{
 "cells": [
  {
   "cell_type": "code",
   "execution_count": 1,
   "metadata": {},
   "outputs": [],
   "source": [
    "%matplotlib inline\n",
    "import csv, requests, os\n",
    "import pandas as pd\n",
    "import numpy as np"
   ]
  },
  {
   "cell_type": "markdown",
   "metadata": {},
   "source": [
    "## Get data from Google sheets"
   ]
  },
  {
   "cell_type": "code",
   "execution_count": 2,
   "metadata": {},
   "outputs": [
    {
     "name": "stdout",
     "output_type": "stream",
     "text": [
      "Querying Doc: https://docs.google.com/spreadsheets/d/1bvRKCfu9iGllHsOolDjMtbGA_2COddQFoZ7I45Lyn6o/edit#gid=0\n"
     ]
    },
    {
     "name": "stderr",
     "output_type": "stream",
     "text": [
      "/var/folders/fb/4mqgs_t92c99xgv1z3ql1q6w0000gp/T/ipykernel_18871/3888547131.py:13: FutureWarning: Could not cast to int64, falling back to object. This behavior is deprecated. In a future version, when a dtype is passed to 'DataFrame', either all columns will be cast to that dtype, or a TypeError will be raised.\n",
      "  df = pd.DataFrame(list(reader), columns=header, dtype=int)\n",
      "/var/folders/fb/4mqgs_t92c99xgv1z3ql1q6w0000gp/T/ipykernel_18871/3888547131.py:17: SettingWithCopyWarning: \n",
      "A value is trying to be set on a copy of a slice from a DataFrame.\n",
      "Try using .loc[row_indexer,col_indexer] = value instead\n",
      "\n",
      "See the caveats in the documentation: https://pandas.pydata.org/pandas-docs/stable/user_guide/indexing.html#returning-a-view-versus-a-copy\n",
      "  df['filepath'] = 'speeches/' + df.Filename\n",
      "/var/folders/fb/4mqgs_t92c99xgv1z3ql1q6w0000gp/T/ipykernel_18871/3888547131.py:18: SettingWithCopyWarning: \n",
      "A value is trying to be set on a copy of a slice from a DataFrame.\n",
      "Try using .loc[row_indexer,col_indexer] = value instead\n",
      "\n",
      "See the caveats in the documentation: https://pandas.pydata.org/pandas-docs/stable/user_guide/indexing.html#returning-a-view-versus-a-copy\n",
      "  df['file_exists'] = df['filepath'].apply(lambda x: os.path.isfile(x))\n"
     ]
    },
    {
     "data": {
      "text/html": [
       "<div>\n",
       "<style scoped>\n",
       "    .dataframe tbody tr th:only-of-type {\n",
       "        vertical-align: middle;\n",
       "    }\n",
       "\n",
       "    .dataframe tbody tr th {\n",
       "        vertical-align: top;\n",
       "    }\n",
       "\n",
       "    .dataframe thead th {\n",
       "        text-align: right;\n",
       "    }\n",
       "</style>\n",
       "<table border=\"1\" class=\"dataframe\">\n",
       "  <thead>\n",
       "    <tr style=\"text-align: right;\">\n",
       "      <th></th>\n",
       "      <th>Filename</th>\n",
       "      <th>State</th>\n",
       "      <th>Governor</th>\n",
       "      <th>Gender</th>\n",
       "      <th>Party</th>\n",
       "      <th>Type of Speech</th>\n",
       "      <th>New Gov?</th>\n",
       "      <th>2020 Contender?</th>\n",
       "      <th>Region</th>\n",
       "      <th>Trifecta Status</th>\n",
       "      <th>Trifecta</th>\n",
       "      <th>Best Transcript URL</th>\n",
       "      <th>Selector</th>\n",
       "      <th>Note</th>\n",
       "      <th>Lesser Transcript URL</th>\n",
       "      <th>New Best Transcript URL</th>\n",
       "      <th>filepath</th>\n",
       "      <th>file_exists</th>\n",
       "    </tr>\n",
       "  </thead>\n",
       "  <tbody>\n",
       "    <tr>\n",
       "      <th>0</th>\n",
       "      <td>Alabama_Inaugural.txt</td>\n",
       "      <td>Alabama</td>\n",
       "      <td>Kay Ivey</td>\n",
       "      <td>Female</td>\n",
       "      <td>R</td>\n",
       "      <td>Inaugural</td>\n",
       "      <td>No</td>\n",
       "      <td>No</td>\n",
       "      <td>South</td>\n",
       "      <td>R trifecta</td>\n",
       "      <td>Trifecta</td>\n",
       "      <td>https://governor.alabama.gov/remarks-speeches/...</td>\n",
       "      <td></td>\n",
       "      <td></td>\n",
       "      <td>https://www.al.com/news/2019/01/the-full-text-...</td>\n",
       "      <td></td>\n",
       "      <td>speeches/Alabama_Inaugural.txt</td>\n",
       "      <td>True</td>\n",
       "    </tr>\n",
       "    <tr>\n",
       "      <th>1</th>\n",
       "      <td>Alabama_SOTS.txt</td>\n",
       "      <td>Alabama</td>\n",
       "      <td>Kay Ivey</td>\n",
       "      <td>Female</td>\n",
       "      <td>R</td>\n",
       "      <td>State of the state</td>\n",
       "      <td>No</td>\n",
       "      <td>No</td>\n",
       "      <td>South</td>\n",
       "      <td>R trifecta</td>\n",
       "      <td>Trifecta</td>\n",
       "      <td>https://governor.alabama.gov/remarks-speeches/...</td>\n",
       "      <td></td>\n",
       "      <td></td>\n",
       "      <td></td>\n",
       "      <td>https://governor.alabama.gov/remarks-speeches/...</td>\n",
       "      <td>speeches/Alabama_SOTS.txt</td>\n",
       "      <td>True</td>\n",
       "    </tr>\n",
       "    <tr>\n",
       "      <th>3</th>\n",
       "      <td>Alaska_SOTS.txt</td>\n",
       "      <td>Alaska</td>\n",
       "      <td>Mike Dunleavy</td>\n",
       "      <td>Male</td>\n",
       "      <td>R</td>\n",
       "      <td>State of the state</td>\n",
       "      <td>Yes</td>\n",
       "      <td>No</td>\n",
       "      <td>West</td>\n",
       "      <td>Divided government</td>\n",
       "      <td>Divided</td>\n",
       "      <td>https://gov.alaska.gov/newsroom/2019/01/22/201...</td>\n",
       "      <td></td>\n",
       "      <td></td>\n",
       "      <td>https://www.adn.com/politics/2019/01/23/watch-...</td>\n",
       "      <td>https://gov.alaska.gov/newsroom/2019/01/22/201...</td>\n",
       "      <td>speeches/Alaska_SOTS.txt</td>\n",
       "      <td>True</td>\n",
       "    </tr>\n",
       "    <tr>\n",
       "      <th>4</th>\n",
       "      <td>Arizona_Inaugural.txt</td>\n",
       "      <td>Arizona</td>\n",
       "      <td>Doug Ducey</td>\n",
       "      <td>Male</td>\n",
       "      <td>R</td>\n",
       "      <td>Inaugural</td>\n",
       "      <td>No</td>\n",
       "      <td>No</td>\n",
       "      <td>West</td>\n",
       "      <td>R trifecta</td>\n",
       "      <td>Trifecta</td>\n",
       "      <td>https://azgovernor.gov/governor/news/2019/01/g...</td>\n",
       "      <td></td>\n",
       "      <td></td>\n",
       "      <td></td>\n",
       "      <td></td>\n",
       "      <td>speeches/Arizona_Inaugural.txt</td>\n",
       "      <td>True</td>\n",
       "    </tr>\n",
       "    <tr>\n",
       "      <th>5</th>\n",
       "      <td>Arizona_SOTS.txt</td>\n",
       "      <td>Arizona</td>\n",
       "      <td>Doug Ducey</td>\n",
       "      <td>Male</td>\n",
       "      <td>R</td>\n",
       "      <td>State of the state</td>\n",
       "      <td>No</td>\n",
       "      <td>No</td>\n",
       "      <td>West</td>\n",
       "      <td>R trifecta</td>\n",
       "      <td>Trifecta</td>\n",
       "      <td>https://azgovernor.gov/governor/news/2019/01/g...</td>\n",
       "      <td></td>\n",
       "      <td></td>\n",
       "      <td></td>\n",
       "      <td>https://azgovernor.gov/governor/news/2019/01/g...</td>\n",
       "      <td>speeches/Arizona_SOTS.txt</td>\n",
       "      <td>True</td>\n",
       "    </tr>\n",
       "  </tbody>\n",
       "</table>\n",
       "</div>"
      ],
      "text/plain": [
       "                Filename    State       Governor  Gender Party  \\\n",
       "0  Alabama_Inaugural.txt  Alabama       Kay Ivey  Female     R   \n",
       "1       Alabama_SOTS.txt  Alabama       Kay Ivey  Female     R   \n",
       "3        Alaska_SOTS.txt   Alaska  Mike Dunleavy    Male     R   \n",
       "4  Arizona_Inaugural.txt  Arizona     Doug Ducey    Male     R   \n",
       "5       Arizona_SOTS.txt  Arizona     Doug Ducey    Male     R   \n",
       "\n",
       "       Type of Speech New Gov? 2020 Contender? Region     Trifecta Status  \\\n",
       "0           Inaugural       No              No  South          R trifecta   \n",
       "1  State of the state       No              No  South          R trifecta   \n",
       "3  State of the state      Yes              No   West  Divided government   \n",
       "4           Inaugural       No              No   West          R trifecta   \n",
       "5  State of the state       No              No   West          R trifecta   \n",
       "\n",
       "   Trifecta                                Best Transcript URL Selector Note  \\\n",
       "0  Trifecta  https://governor.alabama.gov/remarks-speeches/...                 \n",
       "1  Trifecta  https://governor.alabama.gov/remarks-speeches/...                 \n",
       "3   Divided  https://gov.alaska.gov/newsroom/2019/01/22/201...                 \n",
       "4  Trifecta  https://azgovernor.gov/governor/news/2019/01/g...                 \n",
       "5  Trifecta  https://azgovernor.gov/governor/news/2019/01/g...                 \n",
       "\n",
       "                               Lesser Transcript URL  \\\n",
       "0  https://www.al.com/news/2019/01/the-full-text-...   \n",
       "1                                                      \n",
       "3  https://www.adn.com/politics/2019/01/23/watch-...   \n",
       "4                                                      \n",
       "5                                                      \n",
       "\n",
       "                             New Best Transcript URL  \\\n",
       "0                                                      \n",
       "1  https://governor.alabama.gov/remarks-speeches/...   \n",
       "3  https://gov.alaska.gov/newsroom/2019/01/22/201...   \n",
       "4                                                      \n",
       "5  https://azgovernor.gov/governor/news/2019/01/g...   \n",
       "\n",
       "                         filepath  file_exists  \n",
       "0  speeches/Alabama_Inaugural.txt         True  \n",
       "1       speeches/Alabama_SOTS.txt         True  \n",
       "3        speeches/Alaska_SOTS.txt         True  \n",
       "4  speeches/Arizona_Inaugural.txt         True  \n",
       "5       speeches/Arizona_SOTS.txt         True  "
      ]
     },
     "execution_count": 2,
     "metadata": {},
     "output_type": "execute_result"
    }
   ],
   "source": [
    "def make_regular_gsheet_url(doc_id, sheet_id):\n",
    "    return f\"https://docs.google.com/spreadsheets/d/{doc_id}/edit#gid={sheet_id}\"\n",
    "\n",
    "def make_csv_gsheet_url(doc_id, sheet_id):\n",
    "    return f\"https://docs.google.com/spreadsheets/d/{doc_id}/export?format=csv&id={doc_id}&gid={sheet_id}\"\n",
    "\n",
    "\n",
    "GOOGLE_SHEET_ID = '1bvRKCfu9iGllHsOolDjMtbGA_2COddQFoZ7I45Lyn6o'\n",
    "print(\"Querying Doc:\", make_regular_gsheet_url(GOOGLE_SHEET_ID, \"0\"))\n",
    "response = requests.get(make_csv_gsheet_url(GOOGLE_SHEET_ID, \"0\"))\n",
    "reader = csv.reader(response.text.splitlines())\n",
    "header = next(reader)\n",
    "df = pd.DataFrame(list(reader), columns=header, dtype=int)\n",
    "\n",
    "# Remove rows when N/A is a filename\n",
    "df = df[df['Filename'] != 'N/A']\n",
    "df['filepath'] = 'speeches/' + df.Filename\n",
    "df['file_exists'] = df['filepath'].apply(lambda x: os.path.isfile(x))\n",
    "df.head()"
   ]
  },
  {
   "cell_type": "markdown",
   "metadata": {},
   "source": [
    "## Filter Data"
   ]
  },
  {
   "cell_type": "code",
   "execution_count": 3,
   "metadata": {},
   "outputs": [
    {
     "data": {
      "text/plain": [
       "'Dataset is 50 speeches'"
      ]
     },
     "execution_count": 3,
     "metadata": {},
     "output_type": "execute_result"
    }
   ],
   "source": [
    "df = df[df['Type of Speech'].isin(['State of the state','Both'])]\n",
    "f\"Dataset is {len(df)} speeches\""
   ]
  },
  {
   "cell_type": "markdown",
   "metadata": {},
   "source": [
    "## Read Speeches"
   ]
  },
  {
   "cell_type": "code",
   "execution_count": 4,
   "metadata": {},
   "outputs": [],
   "source": [
    "def get_speeches(df):\n",
    "    speeches = []\n",
    "    for path in df['filepath']:\n",
    "        with open(path) as f:\n",
    "            text = f.read()\n",
    "            speeches.append(text)\n",
    "    return speeches\n",
    "\n",
    "speeches = get_speeches(df)"
   ]
  },
  {
   "cell_type": "markdown",
   "metadata": {},
   "source": [
    "## Turn Speeches Into Vectors!"
   ]
  },
  {
   "cell_type": "code",
   "execution_count": 5,
   "metadata": {},
   "outputs": [],
   "source": [
    "from sklearn.feature_extraction.text import CountVectorizer\n",
    "from sklearn.naive_bayes import MultinomialNB\n",
    "\n",
    "## YOU CAN EDIT THESE\n",
    "y_columns = ['Party', 'Trifecta']\n",
    "BINARY=True\n",
    "NGRAMS=1\n",
    "MIN_DF=0\n",
    "\n",
    "def ngram_vectorizer(n, binary, min_df):\n",
    "    return TfidfVectorizer(\n",
    "        stop_words='english', # 'english' if not custom list\n",
    "        ngram_range=(1,n),\n",
    "        binary=binary,\n",
    "        min_df=min_df\n",
    "    )\n"
   ]
  },
  {
   "cell_type": "code",
   "execution_count": 6,
   "metadata": {},
   "outputs": [
    {
     "ename": "NameError",
     "evalue": "name 'TfidfVectorizer' is not defined",
     "output_type": "error",
     "traceback": [
      "\u001b[0;31m---------------------------------------------------------------------------\u001b[0m",
      "\u001b[0;31mNameError\u001b[0m                                 Traceback (most recent call last)",
      "Input \u001b[0;32mIn [6]\u001b[0m, in \u001b[0;36m<module>\u001b[0;34m\u001b[0m\n\u001b[0;32m----> 1\u001b[0m vectorizer \u001b[38;5;241m=\u001b[39m \u001b[43mngram_vectorizer\u001b[49m\u001b[43m(\u001b[49m\u001b[43mNGRAMS\u001b[49m\u001b[43m,\u001b[49m\u001b[43m \u001b[49m\u001b[43mbinary\u001b[49m\u001b[38;5;241;43m=\u001b[39;49m\u001b[43mBINARY\u001b[49m\u001b[43m,\u001b[49m\u001b[43m \u001b[49m\u001b[43mmin_df\u001b[49m\u001b[38;5;241;43m=\u001b[39;49m\u001b[43mMIN_DF\u001b[49m\u001b[43m)\u001b[49m\n\u001b[1;32m      2\u001b[0m X \u001b[38;5;241m=\u001b[39m vectorizer\u001b[38;5;241m.\u001b[39mfit_transform(speeches)\n\u001b[1;32m      3\u001b[0m y \u001b[38;5;241m=\u001b[39m np\u001b[38;5;241m.\u001b[39marray(df[\u001b[38;5;124m'\u001b[39m\u001b[38;5;124mParty\u001b[39m\u001b[38;5;124m'\u001b[39m])\n",
      "Input \u001b[0;32mIn [5]\u001b[0m, in \u001b[0;36mngram_vectorizer\u001b[0;34m(n, binary, min_df)\u001b[0m\n\u001b[1;32m     10\u001b[0m \u001b[38;5;28;01mdef\u001b[39;00m \u001b[38;5;21mngram_vectorizer\u001b[39m(n, binary, min_df):\n\u001b[0;32m---> 11\u001b[0m     \u001b[38;5;28;01mreturn\u001b[39;00m \u001b[43mTfidfVectorizer\u001b[49m(\n\u001b[1;32m     12\u001b[0m         stop_words\u001b[38;5;241m=\u001b[39m\u001b[38;5;124m'\u001b[39m\u001b[38;5;124menglish\u001b[39m\u001b[38;5;124m'\u001b[39m, \u001b[38;5;66;03m# 'english' if not custom list\u001b[39;00m\n\u001b[1;32m     13\u001b[0m         ngram_range\u001b[38;5;241m=\u001b[39m(\u001b[38;5;241m1\u001b[39m,n),\n\u001b[1;32m     14\u001b[0m         binary\u001b[38;5;241m=\u001b[39mbinary,\n\u001b[1;32m     15\u001b[0m         min_df\u001b[38;5;241m=\u001b[39mmin_df\n\u001b[1;32m     16\u001b[0m     )\n",
      "\u001b[0;31mNameError\u001b[0m: name 'TfidfVectorizer' is not defined"
     ]
    }
   ],
   "source": [
    "vectorizer = ngram_vectorizer(NGRAMS, binary=BINARY, min_df=MIN_DF)\n",
    "X = vectorizer.fit_transform(speeches)\n",
    "y = np.array(df['Party'])"
   ]
  },
  {
   "cell_type": "code",
   "execution_count": null,
   "metadata": {},
   "outputs": [],
   "source": [
    "# showing you the array!\n",
    "print(X.shape)\n",
    "X.toarray()"
   ]
  },
  {
   "cell_type": "code",
   "execution_count": null,
   "metadata": {},
   "outputs": [],
   "source": [
    "# turning it back into a dataframe for visibility\n",
    "word_vectors = pd.DataFrame(X.toarray(), columns=vectorizer.get_feature_names_out())\n",
    "df[['State', 'Governor', 'Party', 'Trifecta Status']].reset_index().\\\n",
    "    merge(word_vectors, left_index=True, right_index=True)\\\n",
    "    .drop(columns=['index_x', 'index_y']).head()"
   ]
  },
  {
   "cell_type": "code",
   "execution_count": null,
   "metadata": {},
   "outputs": [],
   "source": [
    "print(y)\n",
    "y = (y == 'R').astype('int')\n",
    "y"
   ]
  },
  {
   "cell_type": "markdown",
   "metadata": {},
   "source": [
    "## Train a Classifier"
   ]
  },
  {
   "cell_type": "code",
   "execution_count": null,
   "metadata": {},
   "outputs": [],
   "source": [
    "clf = MultinomialNB(alpha=1.0e-10, class_prior=None, fit_prior=True)\n",
    "clf.fit(X, y)"
   ]
  },
  {
   "cell_type": "code",
   "execution_count": null,
   "metadata": {},
   "outputs": [],
   "source": [
    "from sklearn.metrics import confusion_matrix, recall_score, precision_score, accuracy_score, f1_score\n",
    "from sklearn.model_selection import train_test_split, cross_val_score, cross_validate"
   ]
  },
  {
   "cell_type": "code",
   "execution_count": null,
   "metadata": {},
   "outputs": [],
   "source": [
    "# 5-fold cross-validation\n",
    "scoring = ['accuracy', 'precision', 'recall', 'f1']\n",
    "scores = cross_validate(clf, X, y, scoring=scoring, cv=4)\n",
    "pd.DataFrame(scores).round(2)"
   ]
  },
  {
   "cell_type": "code",
   "execution_count": null,
   "metadata": {},
   "outputs": [],
   "source": [
    "cross_val_score(clf, X, y)"
   ]
  },
  {
   "cell_type": "markdown",
   "metadata": {},
   "source": [
    "## Make a prediction"
   ]
  },
  {
   "cell_type": "code",
   "execution_count": null,
   "metadata": {},
   "outputs": [],
   "source": [
    "print(speeches[0])"
   ]
  },
  {
   "cell_type": "code",
   "execution_count": null,
   "metadata": {},
   "outputs": [],
   "source": [
    "speech_vector = vectorizer.transform([speeches[0]])"
   ]
  },
  {
   "cell_type": "code",
   "execution_count": null,
   "metadata": {},
   "outputs": [],
   "source": [
    "speech_vector"
   ]
  },
  {
   "cell_type": "code",
   "execution_count": null,
   "metadata": {},
   "outputs": [],
   "source": [
    "clf.predict(speech_vector)"
   ]
  },
  {
   "cell_type": "code",
   "execution_count": null,
   "metadata": {},
   "outputs": [],
   "source": [
    "clf.predict_proba(speech_vector)"
   ]
  },
  {
   "cell_type": "markdown",
   "metadata": {},
   "source": [
    "## Peek inside the model (coeffeicients on each word)\n",
    "\n",
    "https://fivethirtyeight.com/features/what-americas-governors-are-talking-about/\n",
    "\n",
    "see \"state-of-the-states.ipynb\"\n",
    "\n",
    "More on this to come as we learn about bayesian classifiers!"
   ]
  }
 ],
 "metadata": {
  "kernelspec": {
   "display_name": "Python 3 (ipykernel)",
   "language": "python",
   "name": "python3"
  },
  "language_info": {
   "codemirror_mode": {
    "name": "ipython",
    "version": 3
   },
   "file_extension": ".py",
   "mimetype": "text/x-python",
   "name": "python",
   "nbconvert_exporter": "python",
   "pygments_lexer": "ipython3",
   "version": "3.9.12"
  }
 },
 "nbformat": 4,
 "nbformat_minor": 2
}
